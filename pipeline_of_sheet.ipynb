{
 "cells": [
  {
   "cell_type": "code",
   "execution_count": 8,
   "metadata": {},
   "outputs": [],
   "source": [
    "import pandas as pd\n",
    "import pywhatkit\n",
    "from datetime import datetime\n",
    "from functools import partial"
   ]
  },
  {
   "cell_type": "code",
   "execution_count": 9,
   "metadata": {},
   "outputs": [],
   "source": [
    "def create_df_from_sheet(id_sheet):\n",
    "    df = pd.read_csv(f\"https://docs.google.com/spreadsheets/d/{id_sheet}/export?format=csv\")\n",
    "    df.columns = ['timeline', 'class', 'name', 'size']\n",
    "    df['timeline'] = pd.to_datetime(df['timeline'])\n",
    "    return df"
   ]
  },
  {
   "cell_type": "code",
   "execution_count": 10,
   "metadata": {},
   "outputs": [],
   "source": [
    "def create_custom_message(df, class_name):\n",
    "    df_ = df.loc[df[\"class\"] == class_name]\n",
    "    amount_of_people = len(df_)\n",
    "    zip_data = list(zip(list(df_[\"name\"]), list(df_[\"size\"])))\n",
    "    data =  \"\\n\".join([\" \".join(list(i)) for i in zip_data])\n",
    "    message = f\"*{class_name}* \\n\\n {data} \\n\\n *{amount_of_people}*\\n\"\n",
    "    return message"
   ]
  },
  {
   "cell_type": "code",
   "execution_count": 11,
   "metadata": {},
   "outputs": [],
   "source": [
    "def send_massage(massage, number):\n",
    "    current_time = datetime.now()\n",
    "    h, m = current_time.hour, current_time.minute + 2\n",
    "    if m > 59:\n",
    "        m = m - 60\n",
    "        h = h + 1\n",
    "    print(f\"Sending message to {number} at {h}:{m}\")\n",
    "    pywhatkit.sendwhatmsg(number, massage, h, m)"
   ]
  },
  {
   "cell_type": "code",
   "execution_count": 12,
   "metadata": {},
   "outputs": [
    {
     "data": {
      "text/plain": [
       "(' צבי ימלך \\n  :סיכום המידות לפנימיה \\n\\n*בני מנשה* \\n\\n יאיר בן דוד L\\nאהרון גויטה XL\\nיצחק האוקיפ XXXL\\nיואל הנמטה L\\nיונתן זוטה M\\nדוד טאואנג L\\nחיים טאוטנג M\\nחיים להונגדים L\\nגדליה להונגדים L\\nגרשון סיטלהאו L\\nדן סינגסון M\\nאורח L\\nברוך L\\nדוד צקצואק L\\nהילל קולני L\\nיונתן קיפגן L\\nבנימין אלו L\\nיניב האוקיפ M\\nשימרון האוקיפ S\\nפינחס האוקיפ S\\nאפראיים צונגלוי S\\nמיכאל הנגסינג M\\nאיה הנגסינג L\\nמיכאל הנגהל M\\nאבידן טאוטנג L\\nשמואל טאוטנג M\\nציון צונגלוי M\\nיונתן  L\\nישי סיטלהאו L\\nישי סינגסון  M\\nאפראיים סינגסון L\\nמנשה  סינגסון L\\nשלומה סינגסון M\\nרעות ניאנג S\\nגמואל L \\n\\n *35*\\n*יב* \\n\\n מנחם יגל אברהם  M\\nאיתמר נגר L\\nנתנאל פרידמן  L\\nנועם טימסטיט L\\nנעם גליקסברג M\\nיהושע דולינסקי L\\nאביתר מוזס XL\\nשמעון טסלר L\\nיקיר כהן XL\\nשי רוזביץ M\\nיובל בן דור  L\\nיעקב קליין  M\\nאורי ווילף  L\\nאלרואי חדד S\\nיוסף שרעבי M\\nמעוז הדסי  M\\nאיתמר נגר L\\nנתנאל פרידמן  L\\nשי רוזביץ M\\nדביר קניג M\\nאלרואי חדד S\\nיעקב בבקוף  L\\nמנחם יגל אברהם  M \\n\\n *23*\\n*יא* \\n\\n סהר הירשלר  XL\\nעומר דבירי M\\nעילי סלם L\\nאליאור גוברין XL\\nאליה חברוני M\\nיעקב איילין XL\\nיאיר שטיינמץ L\\nאביעד גולדברג L\\nצוקי ניר S\\nנריה רחמים L\\nאליעד כהן XL\\nאילן דואק M\\nאליעד כהן L\\nמנחם וולשטיין M\\nשדמי M\\nאמיתי הלוי L\\nאליעזר M\\nמאיר כבדיאל L\\nמתניה מליק L\\nאורי שמחוני L\\nאורי בו צור L\\nמלאכי שלומי M\\nמיכאל  M\\nידידיה מאיר  M\\nדוד בר שליט L\\nרונאל שי M\\nיאיר ברט Xs\\nעידו שאלתיאל  M\\nעידו טויטו M\\nעוז הרשקוביץ  M \\n\\n *30*\\n*י* \\n\\n נועם גולדרייך Xs\\nאיתמר אחרק XL\\nאיתיה דוידי M\\nאלישיב סלע S\\nאורי טרבלסי  XL\\nהראל שמעונוב  XL\\nגלעד S\\nאופיר חן M\\nבנימין יהודה ליבפרוינד  L\\nאורי בינה L\\nתום אוקן M\\nדביר שוקר  M\\nדניאל פלש L\\nעמית וייסמן S\\nאילון דרעי M\\nאיתן עופר L\\nנוה מזרחי M\\nאלקנה בריעקב S\\nעקיבא זמיר XXL \\n\\n *19*\\n*ט* \\n\\n עמיחי שר  L\\nאורי עדיני M\\nאריאל שיק L\\nשילה חממי L\\nגלעד וייס M\\nמלאכי גלזמן XL\\nבעז גולד M\\nנעם אנקור M\\nמתניה מושקוביץ  18\\nאמיתי רוזנבלום S\\nידידיה יסיני 18\\nעמיחי צבי וסינג S\\nאושר ויינשטיין 18\\nאיתי פולק  L\\nינאי וולמן M\\nנוה לנגפלד S\\nיהודה סמקאי  L\\nיאיר מדר 16\\nאלנתן מאירי S\\nעידו מדמון 18\\nאחיה M\\nיוסף לביא M\\nיאיר אסטרייכר 18\\nידידיה ליבוביץ  M\\nאליצור יהודה גרתי 18\\nיהלי אלמליח  M\\nנעם ברק M\\nבנימין בלושטיין  16\\nנחמן כהן 16\\nאליסף בוסקילה 16\\nהופמן M\\nמתניה מושקוביץ  18\\nנהוראי שוחט 18\\nאיתמר כפרי S\\nשילה אביר  S \\n\\n *35*\\n',\n",
       " '+972 54-675-8740')"
      ]
     },
     "execution_count": 12,
     "metadata": {},
     "output_type": "execute_result"
    }
   ],
   "source": [
    "df = create_df_from_sheet(\"1IV0UjjbggpacViFQsyldfqb4wZ0Nbr9BaYL4KKTU9xo\")\n",
    "\n",
    "create_custom_message = partial(create_custom_message, df)\n",
    "\n",
    "data_12 =[create_custom_message(\"יב\"), \"+97252-619-8868\"]\n",
    "data_11= [create_custom_message(\"יא\"), \"+972528410241\"]\n",
    "data_10= [create_custom_message(\"י\"), \"+97253-301-1977\"]\n",
    "data_9 = [create_custom_message(\"ט\"), \"+97250-584-2358\"]\n",
    "data_menashe = [create_custom_message(\"בני מנשה\"), \"+97258-697-0272\"]\n",
    "data_z = \" צבי ימלך \\n  :סיכום המידות לפנימיה \\n\\n\" + data_menashe[0] + data_12[0] + data_11[0] + data_10[0] + data_9[0], \"+972 54-675-8740\"\n",
    "all_data = [data_12, data_11, data_10, data_9, data_menashe, data_z]\n",
    "data_z\n",
    "# for data in all_data: send_massage(*data)"
   ]
  },
  {
   "cell_type": "code",
   "execution_count": null,
   "metadata": {},
   "outputs": [],
   "source": []
  }
 ],
 "metadata": {
  "kernelspec": {
   "display_name": "Python 3.9.7 ('base')",
   "language": "python",
   "name": "python3"
  },
  "language_info": {
   "codemirror_mode": {
    "name": "ipython",
    "version": 3
   },
   "file_extension": ".py",
   "mimetype": "text/x-python",
   "name": "python",
   "nbconvert_exporter": "python",
   "pygments_lexer": "ipython3",
   "version": "3.9.7"
  },
  "orig_nbformat": 4,
  "vscode": {
   "interpreter": {
    "hash": "7cdf10781bbe6a57a8d081363923bf7d747e13240b0528932bc62bdd64a98c25"
   }
  }
 },
 "nbformat": 4,
 "nbformat_minor": 2
}
