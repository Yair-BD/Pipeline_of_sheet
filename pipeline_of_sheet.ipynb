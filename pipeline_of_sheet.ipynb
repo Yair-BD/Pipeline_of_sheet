{
 "cells": [
  {
   "cell_type": "code",
   "execution_count": null,
   "metadata": {},
   "outputs": [],
   "source": [
    "import pandas as pd\n",
    "import pywhatkit\n",
    "from datetime import datetime\n",
    "from functools import partial"
   ]
  },
  {
   "cell_type": "code",
   "execution_count": null,
   "metadata": {},
   "outputs": [],
   "source": [
    "def create_df_from_sheet(id_sheet):\n",
    "    df = pd.read_csv(f\"https://docs.google.com/spreadsheets/d/{id_sheet}/export?format=csv\")\n",
    "    df.columns = ['timeline', 'class', 'name', 'size']\n",
    "    df['timeline'] = pd.to_datetime(df['timeline'])\n",
    "    return df"
   ]
  },
  {
   "cell_type": "code",
   "execution_count": null,
   "metadata": {},
   "outputs": [],
   "source": [
    "def create_custom_message(df, class_name):\n",
    "    df_ = df.loc[df[\"class\"] == class_name]\n",
    "    amount_of_people = len(df_)\n",
    "    zip_data = list(zip(list(df_[\"name\"]), list(df_[\"size\"])))\n",
    "    data =  \"\\n\".join([\" \".join(list(i)) for i in zip_data])\n",
    "    message = f\"*{class_name}* \\n\\n {data} \\n\\n *{amount_of_people}*\\n\"\n",
    "    return message"
   ]
  },
  {
   "cell_type": "code",
   "execution_count": null,
   "metadata": {},
   "outputs": [],
   "source": [
    "def send_massage(massage, number):\n",
    "    current_time = datetime.now()\n",
    "    h, m = current_time.hour, current_time.minute + 2\n",
    "    if m > 59:\n",
    "        m = m - 60\n",
    "        h = h + 1\n",
    "    print(f\"Sending message to {number} at {h}:{m}\")\n",
    "    pywhatkit.sendwhatmsg(number, massage, h, m)"
   ]
  },
  {
   "cell_type": "code",
   "execution_count": null,
   "metadata": {},
   "outputs": [],
   "source": [
    "df = create_df_from_sheet(\"1IV0UjjbggpacViFQsyldfqb4wZ0Nbr9BaYL4KKTU9xo\")\n",
    "\n",
    "create_custom_message = partial(create_custom_message, df)\n",
    "\n",
    "data_12 =[create_custom_message(\"יב\"), \"+972xxxxxxxxx\"]\n",
    "data_11= [create_custom_message(\"יא\"), \"+972xxxxxxxxx\"]\n",
    "data_10= [create_custom_message(\"י\"), \"+972xxxxxxxxx\"]\n",
    "data_9 = [create_custom_message(\"ט\"), \"+972xxxxxxxxx\"]\n",
    "data_menashe = [create_custom_message(\"בני מנשה\"), \"+972xxxxxxxxx\"]\n",
    "data_z = \" צבי ימלך \\n  :סיכום המידות לפנימיה \\n\\n\" + data_menashe[0] + data_12[0] + data_11[0] + data_10[0] + data_9[0], \"+972xxxxxxxxx\"\n",
    "all_data = [data_12, data_11, data_10, data_9, data_menashe, data_z]\n",
    "\n",
    "for data in all_data: send_massage(*data)"
   ]
  },
  {
   "cell_type": "code",
   "execution_count": null,
   "metadata": {},
   "outputs": [],
   "source": []
  }
 ],
 "metadata": {
  "kernelspec": {
   "display_name": "Python 3.9.7 ('base')",
   "language": "python",
   "name": "python3"
  },
  "language_info": {
   "codemirror_mode": {
    "name": "ipython",
    "version": 3
   },
   "file_extension": ".py",
   "mimetype": "text/x-python",
   "name": "python",
   "nbconvert_exporter": "python",
   "pygments_lexer": "ipython3",
   "version": "3.9.7"
  },
  "orig_nbformat": 4,
  "vscode": {
   "interpreter": {
    "hash": "7cdf10781bbe6a57a8d081363923bf7d747e13240b0528932bc62bdd64a98c25"
   }
  }
 },
 "nbformat": 4,
 "nbformat_minor": 2
}
